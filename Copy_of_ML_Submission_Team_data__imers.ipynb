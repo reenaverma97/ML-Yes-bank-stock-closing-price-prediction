{
  "nbformat": 4,
  "nbformat_minor": 0,
  "metadata": {
    "colab": {
      "private_outputs": true,
      "provenance": [],
      "collapsed_sections": [
        "vncDsAP0Gaoa",
        "FJNUwmbgGyua",
        "w6K7xa23Elo4",
        "yQaldy8SH6Dl",
        "mDgbUHAGgjLW",
        "O_i_v8NEhb9l",
        "HhfV-JJviCcP",
        "Y3lxredqlCYt",
        "3RnN4peoiCZX",
        "x71ZqKXriCWQ",
        "7hBIi_osiCS2",
        "JlHwYmJAmNHm",
        "35m5QtbWiB9F",
        "PoPl-ycgm1ru",
        "H0kj-8xxnORC",
        "nA9Y7ga8ng1Z",
        "PBTbrJXOngz2",
        "u3PMJOP6ngxN",
        "dauF4eBmngu3",
        "bKJF3rekwFvQ",
        "MSa1f5Uengrz",
        "GF8Ens_Soomf",
        "0wOQAZs5pc--",
        "K5QZ13OEpz2H",
        "lQ7QKXXCp7Bj",
        "448CDAPjqfQr",
        "KSlN3yHqYklG",
        "t6dVpIINYklI",
        "ijmpgYnKYklI",
        "-JiQyfWJYklI",
        "EM7whBJCYoAo",
        "fge-S5ZAYoAp",
        "85gYPyotYoAp",
        "RoGjAbkUYoAp",
        "4Of9eVA-YrdM",
        "iky9q4vBYrdO",
        "F6T5p64dYrdO",
        "y-Ehk30pYrdP",
        "bamQiAODYuh1",
        "QHF8YVU7Yuh3",
        "GwzvFGzlYuh3",
        "qYpmQ266Yuh3",
        "OH-pJp9IphqM",
        "bbFf2-_FphqN",
        "_ouA3fa0phqN",
        "Seke61FWphqN",
        "PIIx-8_IphqN",
        "t27r6nlMphqO",
        "r2jJGEOYphqO",
        "b0JNsNcRphqO",
        "BZR9WyysphqO",
        "jj7wYXLtphqO",
        "eZrbJ2SmphqO",
        "rFu4xreNphqO",
        "YJ55k-q6phqO",
        "gCFgpxoyphqP",
        "OVtJsKN_phqQ",
        "lssrdh5qphqQ",
        "U2RJ9gkRphqQ",
        "1M8mcRywphqQ",
        "tgIPom80phqQ",
        "JMzcOPDDphqR",
        "x-EpHcCOp1ci",
        "X_VqEhTip1ck",
        "8zGJKyg5p1ck",
        "PVzmfK_Ep1ck",
        "n3dbpmDWp1ck",
        "ylSl6qgtp1ck",
        "ZWILFDl5p1ck",
        "M7G43BXep1ck",
        "Ag9LCva-p1cl",
        "E6MkPsBcp1cl",
        "2cELzS2fp1cl",
        "3MPXvC8up1cl",
        "NC_X3p0fY2L0",
        "UV0SzAkaZNRQ",
        "YPEH6qLeZNRQ",
        "q29F0dvdveiT",
        "EXh0U9oCveiU",
        "22aHeOlLveiV",
        "g-ATYxFrGrvw",
        "Yfr_Vlr8HBkt",
        "8yEUt7NnHlrM",
        "tEA2Xm5dHt1r",
        "I79__PHVH19G",
        "Ou-I18pAyIpj",
        "fF3858GYyt-u",
        "4_0_7-oCpUZd",
        "hwyV_J3ipUZe",
        "3yB-zSqbpUZe",
        "dEUvejAfpUZe",
        "Fd15vwWVpUZf",
        "bn_IUdTipZyH",
        "49K5P_iCpZyH",
        "Nff-vKELpZyI",
        "kLW572S8pZyI",
        "dWbDXHzopZyI",
        "yLjJCtPM0KBk",
        "xiyOF9F70UgQ",
        "7wuGOrhz0itI",
        "id1riN9m0vUs",
        "578E2V7j08f6",
        "89xtkJwZ18nB",
        "67NQN5KX2AMe",
        "Iwf50b-R2tYG",
        "GMQiZwjn3iu7",
        "WVIkgGqN3qsr",
        "XkPnILGE3zoT",
        "Hlsf0x5436Go",
        "mT9DMSJo4nBL",
        "c49ITxTc407N",
        "OeJFEK0N496M",
        "9ExmJH0g5HBk",
        "cJNqERVU536h",
        "k5UmGsbsOxih",
        "T0VqWOYE6DLQ",
        "qBMux9mC6MCf",
        "-oLEiFgy-5Pf",
        "C74aWNz2AliB",
        "2DejudWSA-a0",
        "pEMng2IbBLp7",
        "rAdphbQ9Bhjc",
        "TNVZ9zx19K6k",
        "nqoHp30x9hH9",
        "rMDnDkt2B6du",
        "yiiVWRdJDDil",
        "1UUpS68QDMuG",
        "kexQrXU-DjzY",
        "T5CmagL3EC8N",
        "BhH2vgX9EjGr",
        "qjKvONjwE8ra",
        "P1XJ9OREExlT",
        "VFOzZv6IFROw",
        "TIqpNgepFxVj",
        "VfCC591jGiD4",
        "OB4l2ZhMeS1U",
        "ArJBuiUVfxKd",
        "4qY1EAkEfxKe",
        "PiV4Ypx8fxKe",
        "TfvqoZmBfxKf",
        "dJ2tPlVmpsJ0",
        "JWYfwnehpsJ1",
        "-jK_YjpMpsJ2",
        "HAih1iBOpsJ2",
        "zVGeBEFhpsJ2",
        "bmKjuQ-FpsJ3",
        "Fze-IPXLpx6K",
        "7AN1z2sKpx6M",
        "9PIHJqyupx6M",
        "_-qAgymDpx6N",
        "Z-hykwinpx6N",
        "h_CCil-SKHpo",
        "cBFFvTBNJzUa",
        "HvGl1hHyA_VK",
        "EyNgTHvd2WFk",
        "KH5McJBi2d8v",
        "iW_Lq9qf2h6X",
        "-Kee-DAl2viO",
        "gCX9965dhzqZ",
        "gIfDvo9L0UH2"
      ],
      "include_colab_link": true
    },
    "kernelspec": {
      "name": "python3",
      "display_name": "Python 3"
    },
    "language_info": {
      "name": "python"
    },
    "gpuClass": "standard"
  },
  "cells": [
    {
      "cell_type": "markdown",
      "metadata": {
        "id": "view-in-github",
        "colab_type": "text"
      },
      "source": [
        "<a href=\"https://colab.research.google.com/github/reenaverma97/ML-Yes-bank-stock-closing-price-prediction/blob/main/Copy_of_ML_Submission_Team_data__imers.ipynb\" target=\"_parent\"><img src=\"https://colab.research.google.com/assets/colab-badge.svg\" alt=\"Open In Colab\"/></a>"
      ]
    },
    {
      "cell_type": "markdown",
      "source": [
        "# **Project Name**    -  **Yes Bank Stock Closing Price Prediction**\n",
        "\n"
      ],
      "metadata": {
        "id": "vncDsAP0Gaoa"
      }
    },
    {
      "cell_type": "markdown",
      "source": [
        "##### **Project Type**    - Regression\n",
        "##### **Contribution**    - Team\n",
        "##### **Team Member 1 -** Reena verma \n",
        "##### **Team Member 2 -** md kamran \n",
        "##### **Team Member 3 -** mithin barde\n",
        "##### **Team Member 4 -** krunal sonari"
      ],
      "metadata": {
        "id": "beRrZCGUAJYm"
      }
    },
    {
      "cell_type": "markdown",
      "source": [
        "# **Project Summary -**"
      ],
      "metadata": {
        "id": "FJNUwmbgGyua"
      }
    },
    {
      "cell_type": "markdown",
      "source": [
        "The time series model can be used to predict the stock's closing price of the month. The time series model is a statistical technique that uses past data points to predict future values. This model can be used to analyse the behavior of the stock and make an informed decision about the stock's future. By using this model, the analyst can identify the trends in the stock's historical prices and forecast the future prices. The analyst can also make use of the various indicators such as moving averages, Bollinger Bands, MACD, etc. to make better predictions. Furthermore, the analyst can also incorporate external factors such as news, economic data, and other relevant data to make more accurate predictions."
      ],
      "metadata": {
        "id": "F6v_1wHtG2nS"
      }
    },
    {
      "cell_type": "markdown",
      "source": [
        "# **GitHub Link -**"
      ],
      "metadata": {
        "id": "w6K7xa23Elo4"
      }
    },
    {
      "cell_type": "markdown",
      "source": [
        "Provide your GitHub Link here.\n",
        "https://github.com/reenaverma97"
      ],
      "metadata": {
        "id": "h1o69JH3Eqqn"
      }
    },
    {
      "cell_type": "markdown",
      "source": [
        "# **Problem Statement**\n"
      ],
      "metadata": {
        "id": "yQaldy8SH6Dl"
      }
    },
    {
      "cell_type": "markdown",
      "source": [
        "**Write Problem Statement Here.**\n",
        "Yes Bank is a well-known bank in the Indian financial domain. Since 2018, it has been in the news because of the fraud case involving Rana Kapoor. Owing to this fact, it was interesting to see how that impacted the stock prices of the company and whether Time series models or any other predictive models can do justice to such situations. This dataset has monthly stock prices of the bank since its inception and includes closing, starting, highest, and lowest stock prices of every month. The main objective is to predict the stock’s closing price of the month."
      ],
      "metadata": {
        "id": "DpeJGUA3kjGy"
      }
    },
    {
      "cell_type": "markdown",
      "source": [
        "# **General Guidelines** : -  "
      ],
      "metadata": {
        "id": "mDgbUHAGgjLW"
      }
    },
    {
      "cell_type": "markdown",
      "source": [
        "1.   Well-structured, formatted, and commented code is required. \n",
        "2.   Exception Handling, Production Grade Code & Deployment Ready Code will be a plus. Those students will be awarded some additional credits. \n",
        "     \n",
        "     The additional credits will have advantages over other students during Star Student selection.\n",
        "       \n",
        "             [ Note: - Deployment Ready Code is defined as, the whole .ipynb notebook should be executable in one go\n",
        "                       without a single error logged. ]\n",
        "\n",
        "3.   Each and every logic should have proper comments.\n",
        "4. You may add as many number of charts you want. Make Sure for each and every chart the following format should be answered.\n",
        "        \n",
        "\n",
        "```\n",
        "# Chart visualization code\n",
        "```\n",
        "            \n",
        "\n",
        "*   Why did you pick the specific chart?\n",
        "*   What is/are the insight(s) found from the chart?\n",
        "* Will the gained insights help creating a positive business impact? \n",
        "Are there any insights that lead to negative growth? Justify with specific reason.\n",
        "\n",
        "5. You have to create at least 15 logical & meaningful charts having important insights.\n",
        "\n",
        "\n",
        "[ Hints : - Do the Vizualization in  a structured way while following \"UBM\" Rule. \n",
        "\n",
        "U - Univariate Analysis,\n",
        "\n",
        "B - Bivariate Analysis (Numerical - Categorical, Numerical - Numerical, Categorical - Categorical)\n",
        "\n",
        "M - Multivariate Analysis\n",
        " ]\n",
        "\n",
        "\n",
        "\n",
        "\n",
        "\n",
        "6. You may add more ml algorithms for model creation. Make sure for each and every algorithm, the following format should be answered.\n",
        "\n",
        "\n",
        "*   Explain the ML Model used and it's performance using Evaluation metric Score Chart.\n",
        "\n",
        "\n",
        "*   Cross- Validation & Hyperparameter Tuning\n",
        "\n",
        "*   Have you seen any improvement? Note down the improvement with updates Evaluation metric Score Chart.\n",
        "\n",
        "*   Explain each evaluation metric's indication towards business and the business impact pf the ML model used.\n",
        "\n",
        "\n",
        "\n",
        "\n",
        "\n",
        "\n",
        "\n",
        "\n",
        "\n",
        "\n",
        "\n",
        "\n",
        "\n",
        "\n",
        "\n",
        "\n",
        "\n",
        "\n"
      ],
      "metadata": {
        "id": "ZrxVaUj-hHfC"
      }
    },
    {
      "cell_type": "markdown",
      "source": [
        "# ***Let's Begin !***"
      ],
      "metadata": {
        "id": "O_i_v8NEhb9l"
      }
    },
    {
      "cell_type": "markdown",
      "source": [
        "## ***1. Know Your Data***"
      ],
      "metadata": {
        "id": "HhfV-JJviCcP"
      }
    },
    {
      "cell_type": "markdown",
      "source": [
        "### Import Libraries"
      ],
      "metadata": {
        "id": "Y3lxredqlCYt"
      }
    },
    {
      "cell_type": "code",
      "source": [
        "\n",
        "# importing the required libraries\n",
        "import warnings                                        # do not disturb mode\n",
        "warnings.filterwarnings('ignore')\n",
        "\n",
        "import numpy as np                                     # numerical computations\n",
        "import pandas as pd                                    # data manipulations\n",
        "\n",
        "import matplotlib.pyplot as plt                        # visualize with plots\n",
        "%matplotlib inline\n",
        "import seaborn as sns\n",
        "plt.style.use('seaborn-white')\n",
        "import plotly.express as px                       \n",
        "\n",
        "from datetime import datetime                          # to convert to date\n",
        "\n",
        "\n",
        "from dateutil.relativedelta import relativedelta       # working with dates with style\n",
        "from datetime import datetime                          # computational cost\n",
        "from scipy.optimize import minimize                    # for function minimization\n",
        "import copy                                            # create copies\n",
        "\n",
        "from sklearn.preprocessing import (MinMaxScaler,       # scale the data\n",
        "StandardScaler)         \n",
        "from sklearn.model_selection import train_test_split   # split train and test data\n",
        "from sklearn.model_selection import (cross_val_score,  # split train and test data on a timeseries\n",
        "TimeSeriesSplit)\n",
        "\n",
        "from sklearn.linear_model import LinearRegression      # regression model\n",
        "from xgboost import XGBRegressor                       # xgboost model\n",
        "from sklearn.ensemble import RandomForestRegressor     # random forest model\n",
        "from sklearn.svm import SVR                            # support vector regressor\n",
        "from sklearn.linear_model import (Lasso, Ridge,        # regularization\n",
        "ElasticNet, LassoCV, RidgeCV, ElasticNetCV)\n",
        "from sklearn.model_selection import GridSearchCV       # grid search to optimize parameters\n",
        "\n",
        "from sklearn.metrics import (r2_score,                 # import required metrics\n",
        "mean_squared_error,  mean_absolute_percentage_error, \n",
        "mean_absolute_error)\n",
        "\n",
        "from statsmodels.tsa.stattools import adfuller         # statistics and econometrics\n",
        "import statsmodels.formula.api as smf                  \n",
        "import statsmodels.tsa.api as smt\n",
        "import statsmodels.api as sm\n",
        "import scipy.stats as scs"
      ],
      "metadata": {
        "id": "M8Vqi-pPk-HR"
      },
      "execution_count": null,
      "outputs": []
    },
    {
      "cell_type": "markdown",
      "source": [
        "### Dataset Loading"
      ],
      "metadata": {
        "id": "3RnN4peoiCZX"
      }
    },
    {
      "cell_type": "code",
      "source": [
        "# Load Dataset\n",
        "from google.colab import drive\n",
        "drive.mount('/content/drive')"
      ],
      "metadata": {
        "id": "4CkvbW_SlZ_R"
      },
      "execution_count": null,
      "outputs": []
    },
    {
      "cell_type": "code",
      "source": [
        "dataset = pd.read_csv('/content/drive/MyDrive/ml regression /data_YesBank_StockPrices.csv')"
      ],
      "metadata": {
        "id": "9NikXg54QDaK"
      },
      "execution_count": null,
      "outputs": []
    },
    {
      "cell_type": "markdown",
      "source": [
        "### Dataset First View"
      ],
      "metadata": {
        "id": "x71ZqKXriCWQ"
      }
    },
    {
      "cell_type": "code",
      "source": [
        "# Dataset First Look\n",
        "dataset.head()"
      ],
      "metadata": {
        "id": "LWNFOSvLl09H"
      },
      "execution_count": null,
      "outputs": []
    },
    {
      "cell_type": "markdown",
      "source": [
        "### Dataset Rows & Columns count"
      ],
      "metadata": {
        "id": "7hBIi_osiCS2"
      }
    },
    {
      "cell_type": "code",
      "source": [
        "# Dataset Rows & Columns count\n",
        "dataset.shape"
      ],
      "metadata": {
        "id": "Kllu7SJgmLij"
      },
      "execution_count": null,
      "outputs": []
    },
    {
      "cell_type": "markdown",
      "source": [
        "### Dataset Information"
      ],
      "metadata": {
        "id": "JlHwYmJAmNHm"
      }
    },
    {
      "cell_type": "code",
      "source": [
        "# Dataset Info\n",
        "dataset.info()"
      ],
      "metadata": {
        "id": "e9hRXRi6meOf"
      },
      "execution_count": null,
      "outputs": []
    },
    {
      "cell_type": "markdown",
      "source": [
        "#### Duplicate Values"
      ],
      "metadata": {
        "id": "35m5QtbWiB9F"
      }
    },
    {
      "cell_type": "code",
      "source": [
        "# Dataset Duplicate Value Count\n",
        "len(dataset[dataset.duplicated()])"
      ],
      "metadata": {
        "id": "1sLdpKYkmox0"
      },
      "execution_count": null,
      "outputs": []
    },
    {
      "cell_type": "markdown",
      "source": [
        "#### Missing Values/Null Values"
      ],
      "metadata": {
        "id": "PoPl-ycgm1ru"
      }
    },
    {
      "cell_type": "code",
      "source": [
        "# Missing Values/Null Values Count\n",
        "print(dataset.isnull().sum())"
      ],
      "metadata": {
        "id": "GgHWkxvamxVg"
      },
      "execution_count": null,
      "outputs": []
    },
    {
      "cell_type": "code",
      "source": [
        "# Visualizing the missing values\n",
        "sns.heatmap(dataset.isnull(), cbar=False)"
      ],
      "metadata": {
        "id": "3q5wnI3om9sJ"
      },
      "execution_count": null,
      "outputs": []
    },
    {
      "cell_type": "markdown",
      "source": [
        "### What did you know about your dataset?"
      ],
      "metadata": {
        "id": "H0kj-8xxnORC"
      }
    },
    {
      "cell_type": "markdown",
      "source": [
        " this is a yes bank data set it has been in the \n",
        "news because of the fraud case Owing to this fact, it was interesting\n",
        "to see how that impacted the stock prices of the company and whether Time \n",
        "stock prices of the bank since its inception and includes closing, starting, highest, and lowest\n",
        "The above dataset has 185 rows and 5 columns. There are no mising values and duplicate values in the dataset."
      ],
      "metadata": {
        "id": "gfoNAAC-nUe_"
      }
    },
    {
      "cell_type": "markdown",
      "source": [
        "## ***2. Understanding  Variables***"
      ],
      "metadata": {
        "id": "nA9Y7ga8ng1Z"
      }
    },
    {
      "cell_type": "code",
      "source": [
        "# Dataset Columns\n",
        "dataset.columns"
      ],
      "metadata": {
        "id": "j7xfkqrt5Ag5"
      },
      "execution_count": null,
      "outputs": []
    },
    {
      "cell_type": "code",
      "source": [
        "# Dataset Describe\n",
        "dataset.describe(include='all')"
      ],
      "metadata": {
        "id": "DnOaZdaE5Q5t"
      },
      "execution_count": null,
      "outputs": []
    },
    {
      "cell_type": "markdown",
      "source": [
        "### **Variables Description** "
      ],
      "metadata": {
        "id": "PBTbrJXOngz2"
      }
    },
    {
      "cell_type": "markdown",
      "source": [
        "##**data** - date of record \n",
        "##**open** - opening price \n",
        "## **high** - highest price in the day \n",
        "##**low**- lowest price in the day \n",
        "##**close**- occupations of the speaker "
      ],
      "metadata": {
        "id": "aJV4KIxSnxay"
      }
    },
    {
      "cell_type": "markdown",
      "source": [
        "### Check Unique Values for each variable."
      ],
      "metadata": {
        "id": "u3PMJOP6ngxN"
      }
    },
    {
      "cell_type": "code",
      "source": [
        "# Check Unique Values for each variable.\n",
        "for i in dataset.columns.tolist():\n",
        "  print(\"No. of unique values in \",i,\"is\",dataset[i].nunique(),\".\")"
      ],
      "metadata": {
        "id": "zms12Yq5n-jE"
      },
      "execution_count": null,
      "outputs": []
    },
    {
      "cell_type": "markdown",
      "source": [
        "## 3. ***Data Wrangling***"
      ],
      "metadata": {
        "id": "dauF4eBmngu3"
      }
    },
    {
      "cell_type": "markdown",
      "source": [
        "### Data Wrangling Code"
      ],
      "metadata": {
        "id": "bKJF3rekwFvQ"
      }
    },
    {
      "cell_type": "code",
      "source": [
        "# Write your code to make your dataset analysis ready.\n",
        "df=dataset.copy()\n",
        "# Checking Shape of True Value\n",
        "print(\"stock closing price  : -\",len(df[df['Close']==True]))\n",
        "# Assigning churn customers data to variable df_churn\n",
        "df_churn=df[(df['Close']==True)]"
      ],
      "metadata": {
        "id": "wk-9a2fpoLcV"
      },
      "execution_count": null,
      "outputs": []
    },
    {
      "cell_type": "markdown",
      "source": [
        "##**Exploratory Data Analysis**"
      ],
      "metadata": {
        "id": "9CyB39SF0A8t"
      }
    },
    {
      "cell_type": "code",
      "source": [
        "#dependent variable 'Close' price of stock \n",
        "plt.figure(figsize=(15,10))\n",
        "sns.distplot(dataset['Close'],color=\"y\") \n"
      ],
      "metadata": {
        "id": "rYUDHe3_zwo9"
      },
      "execution_count": null,
      "outputs": []
    },
    {
      "cell_type": "markdown",
      "source": [
        "when we do Exploratory Data Analysis on distplot we can see that  our data distribution is low level skewed  so in this sitution we can use log transformation for normalize data let lake log function and see the result of our data set "
      ],
      "metadata": {
        "id": "IDmcBn1aBp4t"
      }
    },
    {
      "cell_type": "code",
      "source": [
        "# Dependent variable 'closing price '\n",
        "plt.figure(figsize=(15,10))\n",
        "sns.distplot(np.log10(dataset['Close']),color=\"y\")"
      ],
      "metadata": {
        "id": "ZHqxmrSGzwkO"
      },
      "execution_count": null,
      "outputs": []
    },
    {
      "cell_type": "markdown",
      "source": [
        "after doing the log transformation we can easily see that our data now normally distribution after that we can easily analysis data set "
      ],
      "metadata": {
        "id": "5lq10yc3IKAa"
      }
    },
    {
      "cell_type": "code",
      "source": [
        "numeric_features = dataset.describe().columns"
      ],
      "metadata": {
        "id": "SCtPlTFPzwd9"
      },
      "execution_count": null,
      "outputs": []
    },
    {
      "cell_type": "code",
      "source": [
        "#@title Default title text\n",
        "# plot a bar plot for each categorical feature count\n",
        "\n",
        "for col in numeric_features[:]:\n",
        "    fig = plt.figure(figsize=(9, 6))\n",
        "    ax = fig.gca()\n",
        "    feature = dataset[col]\n",
        "    feature.hist(bins=50, ax = ax)\n",
        "    ax.axvline(feature.mean(), color='magenta', linestyle='dashed', linewidth=2)\n",
        "    ax.axvline(feature.median(), color='cyan', linestyle='dashed', linewidth=2)    \n",
        "    ax.set_title(col)\n",
        "plt.show()"
      ],
      "metadata": {
        "id": "Uo_D9H4ezwW0"
      },
      "execution_count": null,
      "outputs": []
    },
    {
      "cell_type": "markdown",
      "source": [
        "**log for greater skew**: log10(x) for positively skewed data, log10(max(x+1) - x) for negatively skewed data"
      ],
      "metadata": {
        "id": "q5C-hZqyJ1Nn"
      }
    },
    {
      "cell_type": "code",
      "source": [
        "#@title Default title text\n",
        "# plot a bar plot for each categorical feature count (\n",
        "\n",
        "for col in numeric_features[:]:\n",
        "    fig = plt.figure(figsize=(9, 6))\n",
        "    ax = fig.gca()\n",
        "    feature = np.log(dataset[col])\n",
        "    feature.hist(bins=50, ax = ax)\n",
        "    ax.axvline(feature.mean(), color='magenta', linestyle='dashed', linewidth=2)\n",
        "    ax.axvline(feature.median(), color='cyan', linestyle='dashed', linewidth=2)    \n",
        "    ax.set_title(col)\n",
        "plt.show()"
      ],
      "metadata": {
        "id": "y8hmbgHO9kkJ"
      },
      "execution_count": null,
      "outputs": []
    },
    {
      "cell_type": "code",
      "source": [
        "def label_point(x, y, val, ax):\n",
        "    a = pd.concat({'x': x, 'y': y, 'val': val}, axis=1)\n",
        "    for i, point in a.iterrows():\n",
        "        ax.text(point['x'], point['y'], str(point['val']))"
      ],
      "metadata": {
        "id": "7cBjLaE59kTs"
      },
      "execution_count": null,
      "outputs": []
    },
    {
      "cell_type": "code",
      "source": [
        "for col in numeric_features[:-1]:\n",
        "    fig = plt.figure(figsize=(9, 6))\n",
        "    ax = fig.gca()\n",
        "    feature = dataset[col]\n",
        "    label = dataset['Close']\n",
        "    correlation = feature.corr(label)\n",
        "    plt.scatter(x=feature, y=label)\n",
        "    plt.xlabel(col)\n",
        "    plt.ylabel('Close')\n",
        "    ax.set_title('Close vs ' + col + '- correlation: ' + str(correlation))\n",
        "    z = np.polyfit(dataset[col], dataset['Close'], 1)\n",
        "    y_hat = np.poly1d(z)(dataset[col])\n",
        "\n",
        "    plt.plot(dataset[col], y_hat, \"r--\", lw=1)\n",
        "\n",
        "plt.show()"
      ],
      "metadata": {
        "id": "uBSnOtsv9kKB"
      },
      "execution_count": null,
      "outputs": []
    },
    {
      "cell_type": "code",
      "source": [
        " ## Correlation\n",
        "plt.figure(figsize=(15,8))\n",
        "correlation = dataset.corr()\n",
        "sns.heatmap(abs(correlation), annot=True, cmap='coolwarm')"
      ],
      "metadata": {
        "id": "Ji69nuos9kEf"
      },
      "execution_count": null,
      "outputs": []
    },
    {
      "cell_type": "markdown",
      "source": [
        "Every feature is extremely corelated with each other, so taking just one feature or average of these features would suffice for our regression model as linear regression assumes there is no multi colinearity in the features."
      ],
      "metadata": {
        "id": "ushwVxWVeGT9"
      }
    },
    {
      "cell_type": "code",
      "source": [
        "# Creating a new feature based on average of other features in the dataset\n",
        "df['OHL'] = df[['Open', 'High', 'Low']].mean(axis=1).round(2)\n",
        "df.head()"
      ],
      "metadata": {
        "id": "7ui0ZhXh9j-R"
      },
      "execution_count": null,
      "outputs": []
    },
    {
      "cell_type": "markdown",
      "source": [
        "#**Linear regression also assumes a linear relationship between the target variables and independent variables, let's check if such relationship exists through a scatter plot**"
      ],
      "metadata": {
        "id": "T8N1BE9rr-9q"
      }
    },
    {
      "cell_type": "code",
      "source": [
        "\n",
        "# scatter plot to see the relationship between dependent & independent variables\n",
        "fig = plt.figure(figsize=(20,5))\n",
        "ax = fig.gca()\n",
        "plt.scatter(df['OHL'], df['Close'])\n",
        "plt.xlabel('OHL')\n",
        "plt.ylabel('Close')\n",
        "ax.set_title('OHL vs Close')\n",
        "z = np.polyfit(df['OHL'], df['Close'], 1)\n",
        "y_hat = np.poly1d(z)(df['OHL'])\n",
        "plt.plot(df['OHL'], y_hat, \"r--\", lw=1)\n",
        "plt.show()\n",
        "     "
      ],
      "metadata": {
        "id": "to2cKyNMRbVH"
      },
      "execution_count": null,
      "outputs": []
    },
    {
      "cell_type": "code",
      "source": [
        "# use lags as additional features\n",
        "for i in range(1, 13):\n",
        "    df[\"lag_{}\".format(i)] = df.OHL.shift(i)"
      ],
      "metadata": {
        "id": "gCIBp2kxK65O"
      },
      "execution_count": null,
      "outputs": []
    },
    {
      "cell_type": "code",
      "source": [
        "\n",
        "# correlation between features\n",
        "plt.figure(figsize=(10, 8))\n",
        "sns.heatmap(df.corr())\n",
        "plt.title('Correlation Heatmap')\n",
        "plt.show()\n",
        "     "
      ],
      "metadata": {
        "id": "CihFYyJgK60_"
      },
      "execution_count": null,
      "outputs": []
    },
    {
      "cell_type": "markdown",
      "source": [
        "##**Train-Test Split**"
      ],
      "metadata": {
        "id": "6jQedBEWxgiX"
      }
    },
    {
      "cell_type": "code",
      "source": [
        "from sklearn.model_selection import (cross_val_score,  # split train and test data on a timeseries\n",
        "TimeSeriesSplit)\n"
      ],
      "metadata": {
        "id": "fa_pmHEYyI3D"
      },
      "execution_count": null,
      "outputs": []
    },
    {
      "cell_type": "code",
      "source": [
        "\n",
        "# 5 fold time-series cross-validation \n",
        "tscv = TimeSeriesSplit(n_splits=5)"
      ],
      "metadata": {
        "id": "l87FBqk4xgM8"
      },
      "execution_count": null,
      "outputs": []
    },
    {
      "cell_type": "code",
      "source": [
        "\n",
        "# function for splitting time-series dataset\n",
        "def timeseries_train_test_split(X, y, test_size):\n",
        "    \"\"\"\n",
        "        Perform train-test split with respect to time series structure\n",
        "    \"\"\"\n",
        "    \n",
        "    # get the index after which test set starts\n",
        "    test_index = int(len(X)*(1-test_size))\n",
        "    scaler = StandardScaler()\n",
        "    X_train = X.iloc[:test_index]\n",
        "    y_train = y.iloc[:test_index]\n",
        "    X_test = X.iloc[test_index:]\n",
        "    y_test = y.iloc[test_index:]\n",
        "    \n",
        "    return X_train, X_test, y_train, y_test"
      ],
      "metadata": {
        "id": "7HCiExMG0TpZ"
      },
      "execution_count": null,
      "outputs": []
    },
    {
      "cell_type": "code",
      "source": [
        "\n",
        "# choose appropriate dependent and independent variables\n",
        "y = df.dropna().Close\n",
        "X = df.dropna().drop(['Date','Close','Open','High','Low'], axis=1)\n",
        "\n",
        "# split the dataset into train and test sets\n",
        "X_train, X_test, y_train, y_test = timeseries_train_test_split(X, y, test_size=0.2)"
      ],
      "metadata": {
        "id": "bgH4duy99j2V"
      },
      "execution_count": null,
      "outputs": []
    },
    {
      "cell_type": "markdown",
      "source": [
        "![model building.png](data:image/png;base64,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)"
      ],
      "metadata": {
        "id": "WCrP3T0zz0nJ"
      }
    },
    {
      "cell_type": "code",
      "source": [
        "from sklearn.linear_model import LinearRegression \n",
        "# initialize and fit linear regression\n",
        "lr = LinearRegression()\n",
        "lr.fit(X_train, y_train)"
      ],
      "metadata": {
        "id": "9TABEv6zz0VC"
      },
      "execution_count": null,
      "outputs": []
    },
    {
      "cell_type": "code",
      "source": [
        "from sklearn.metrics import (r2_score,                 # import required metrics\n",
        "mean_squared_error,  mean_absolute_percentage_error, \n",
        "mean_absolute_error)\n",
        "\n",
        "# function to plot model performance\n",
        "def plotModelResults(model, X_train=X_train, X_test=X_test, plot_intervals=False, plot_anomalies=False):\n",
        "    \"\"\"\n",
        "        Plots modelled vs fact values, prediction intervals and anomalies\n",
        "    \n",
        "    \"\"\"\n",
        "    \n",
        "    prediction = model.predict(X_test)\n",
        "    \n",
        "    plt.figure(figsize=(15, 7))\n",
        "    plt.plot(prediction, \"g\", label=\"prediction\", linewidth=2.0)\n",
        "    plt.plot(y_test.values, label=\"actual\", linewidth=2.0)\n",
        "    \n",
        "    if plot_intervals:\n",
        "        cv = cross_val_score(model, X_train, y_train, \n",
        "                                    cv=tscv, \n",
        "                                    scoring=\"neg_mean_absolute_error\")\n",
        "        mae = cv.mean() * (-1)\n",
        "        deviation = cv.std()\n",
        "        \n",
        "        scale = 1.96\n",
        "        lower = prediction - (mae + scale * deviation)\n",
        "        upper = prediction + (mae + scale * deviation)\n",
        "        \n",
        "        plt.plot(lower, \"r--\", label=\"upper bond / lower bond\", alpha=0.5)\n",
        "        plt.plot(upper, \"r--\", alpha=0.5)\n",
        "        \n",
        "        if plot_anomalies:\n",
        "            anomalies = np.array([np.NaN]*len(y_test))\n",
        "            anomalies[y_testupper] = y_test[y_test>upper]\n",
        "            plt.plot(anomalies, \"o\", markersize=10, label = \"Anomalies\")\n",
        "    \n",
        "    error = mean_absolute_percentage_error(prediction, y_test)\n",
        "    plt.title(\"Mean absolute percentage error {0:.2f}\".format(error))\n",
        "    plt.legend(loc=\"best\")\n",
        "    plt.tight_layout()\n",
        "    plt.grid(True);\n"
      ],
      "metadata": {
        "id": "iRsAHk1K0fpS"
      },
      "execution_count": null,
      "outputs": []
    },
    {
      "cell_type": "code",
      "source": [
        "# function to plot coefficients   \n",
        "def plotCoefficients(model):\n",
        "    \"\"\"\n",
        "        Plots sorted coefficient values of the model\n",
        "    \"\"\"\n",
        "    \n",
        "    coefs = pd.DataFrame(model.coef_, X_train.columns)\n",
        "    coefs.columns = [\"coef\"]\n",
        "    coefs[\"abs\"] = coefs.coef.apply(np.abs)\n",
        "    coefs = coefs.sort_values(by=\"abs\", ascending=False).drop([\"abs\"], axis=1)\n",
        "    \n",
        "    plt.figure(figsize=(15, 7))\n",
        "    coefs.coef.plot(kind='bar')\n",
        "    plt.grid(True, axis='y')\n",
        "    plt.hlines(y=0, xmin=0, xmax=len(coefs), linestyles='dashed')\n",
        "\n",
        "plotModelResults(lr, plot_intervals=True)\n",
        "plotCoefficients(lr)"
      ],
      "metadata": {
        "id": "M6w2CzZf04JK"
      },
      "execution_count": null,
      "outputs": []
    },
    {
      "cell_type": "code",
      "source": [
        "# make predictions\n",
        "lr_y_pred = lr.predict(X_test)\n",
        "\n",
        "# evaluate predictions\n",
        "lr_mae = round(mean_absolute_error(y_test, lr_y_pred),2)\n",
        "print('mean absolute error: {}\\n'.format(lr_mae))\n",
        "lr_mse = round(mean_squared_error(y_test, lr_y_pred),2)\n",
        "print('mean squared error: {}\\n'.format(lr_mse))\n",
        "lr_rmse = round(np.sqrt(lr_mse),2)\n",
        "print('root mean squared error: {}\\n'.format(lr_rmse))\n",
        "lr_r2 = round(r2_score(y_test, lr_y_pred),2)\n",
        "print('r2_score: {}\\n'.format(lr_r2))\n",
        "lr_mape = round(mean_absolute_percentage_error(lr_y_pred, y_test),2)\n",
        "print('mean absolute percentage error: {}\\n\\n\\n'.format(lr_mape))\n",
        "\n",
        "# Check for homoscadacity\n",
        "plt.scatter(lr_y_pred, y_test)\n",
        "plt.title('Variance of residuals')\n",
        "plt.show()"
      ],
      "metadata": {
        "id": "21JmIYMG2hEo"
      },
      "execution_count": null,
      "outputs": []
    },
    {
      "cell_type": "markdown",
      "source": [
        "##**Implementing ridge regression**"
      ],
      "metadata": {
        "id": "PNm3DSGlMLZs"
      }
    },
    {
      "cell_type": "code",
      "source": [
        "from sklearn.linear_model import (Lasso, Ridge,        # regularization\n",
        "ElasticNet, LassoCV, RidgeCV, ElasticNetCV)\n",
        "from sklearn.model_selection import GridSearchCV       # grid search to optimize parameters\n",
        "\n",
        "from sklearn.metrics import (r2_score,                 # import required metrics\n",
        "mean_squared_error,  mean_absolute_percentage_error, \n",
        "mean_absolute_error)\n",
        "\n",
        "\n",
        "     "
      ],
      "metadata": {
        "id": "kNxL-nILMkrd"
      },
      "execution_count": null,
      "outputs": []
    },
    {
      "cell_type": "code",
      "source": [
        "\n",
        "\n",
        "# initialize and fit ridge regression\n",
        "ridge = RidgeCV(cv=tscv)\n",
        "ridge.fit(X_train, y_train)"
      ],
      "metadata": {
        "id": "PTouz10C3oNN"
      },
      "execution_count": null,
      "outputs": []
    },
    {
      "cell_type": "code",
      "source": [
        "ridge.fit(X_train,y_train)"
      ],
      "metadata": {
        "id": "pTHpHFyWMK6A"
      },
      "execution_count": null,
      "outputs": []
    },
    {
      "cell_type": "code",
      "source": [
        "y_pred_r = ridge.predict(X_test)"
      ],
      "metadata": {
        "id": "88JnJ1jN3w7j"
      },
      "execution_count": null,
      "outputs": []
    },
    {
      "cell_type": "code",
      "source": [
        "\n",
        "# make predictions\n",
        "r_y_pred = ridge.predict(X_test)\n",
        "\n",
        "# evaluate predictions\n",
        "r_mae = round(mean_absolute_error(r_y_pred, y_test),2)\n",
        "print('mean absolute error: {}\\n'.format(r_mae))\n",
        "r_mse = round(mean_squared_error(r_y_pred, y_test),2)\n",
        "print('mean squared error: {}\\n'.format(r_mse))\n",
        "r_rmse = round(np.sqrt(r_mse),2)\n",
        "print('root mean squared error: {}\\n'.format(r_rmse))\n",
        "r_r2 = round(r2_score(r_y_pred, y_test),2)\n",
        "print('r2_score: {}\\n'.format(r_r2))\n",
        "r_mape = round(mean_absolute_percentage_error(r_y_pred, y_test),2)\n",
        "print('mean absolute percentage error: {}\\n\\n\\n'.format(r_mape))\n",
        "\n",
        "# Check for homoscadacity\n",
        "plt.scatter(r_y_pred, y_test)\n",
        "plt.title('Variance of residuals')\n",
        "plt.show()"
      ],
      "metadata": {
        "id": "2sxKgKxu4Ip3"
      },
      "execution_count": null,
      "outputs": []
    },
    {
      "cell_type": "markdown",
      "source": [
        "##**Implementing lasso regression**"
      ],
      "metadata": {
        "id": "swMB1e4GQblo"
      }
    },
    {
      "cell_type": "code",
      "source": [
        "\n",
        "# initialize and fit lasso regression\n",
        "lasso = LassoCV(cv=tscv)\n",
        "lasso.fit(X_train, y_train)"
      ],
      "metadata": {
        "id": "T2LSJh154s8W"
      },
      "execution_count": null,
      "outputs": []
    },
    {
      "cell_type": "code",
      "source": [
        "\n",
        "# make predictions\n",
        "l_y_pred = lasso.predict(X_test)\n",
        "\n",
        "# evaluate predictions\n",
        "l_mae = round(mean_absolute_error(y_test, l_y_pred),2)\n",
        "print('mean absolute error: {}\\n'.format(l_mae))\n",
        "l_mse = round(mean_squared_error(y_test, l_y_pred),2)\n",
        "print('mean squared error: {}\\n'.format(l_mse))\n",
        "l_rmse = round(np.sqrt(l_mse),2)\n",
        "print('root mean squared error: {}\\n'.format(l_rmse))\n",
        "l_r2 = round(r2_score(y_test, l_y_pred),2)\n",
        "print('r2_score: {}\\n'.format(l_r2))\n",
        "l_mape = round(mean_absolute_percentage_error(l_y_pred, y_test),2)\n",
        "print('mean absolute percentage error: {}\\n\\n\\n'.format(l_mape))\n",
        "\n",
        "# Check for homoscadacity\n",
        "plt.scatter(l_y_pred, y_test)\n",
        "plt.title('Variance of residuals')\n",
        "plt.show()"
      ],
      "metadata": {
        "id": "EgLJGffy4vm0"
      },
      "execution_count": null,
      "outputs": []
    },
    {
      "cell_type": "markdown",
      "source": [
        "##**Implementing elasticnet regression**"
      ],
      "metadata": {
        "id": "QVquo0WuV-JH"
      }
    },
    {
      "cell_type": "code",
      "source": [
        "\n",
        "# initialize and fit elasticnet regression\n",
        "elasticnet = ElasticNetCV(cv=tscv)\n",
        "elasticnet.fit(X_train, y_train)\n",
        "\n"
      ],
      "metadata": {
        "id": "foqY80Qu48N2"
      },
      "execution_count": null,
      "outputs": []
    },
    {
      "cell_type": "code",
      "source": [
        "\n",
        "# make predictions\n",
        "e_y_pred = elasticnet.predict(X_test)\n",
        "\n",
        "# evaluate predictions\n",
        "e_mae = round(mean_absolute_error(y_test, e_y_pred),2)\n",
        "print('mean absolute error: {}\\n'.format(e_mae))\n",
        "e_mse = round(mean_squared_error(y_test, e_y_pred),2)\n",
        "print('mean squared error: {}\\n'.format(e_mse))\n",
        "e_rmse = round(np.sqrt(e_mse),2)\n",
        "print('root mean squared error: {}\\n'.format(e_rmse))\n",
        "e_r2 = round(r2_score(y_test, e_y_pred),2)\n",
        "print('r2_score: {}\\n'.format(e_r2))\n",
        "e_mape = round(mean_absolute_percentage_error(e_y_pred, y_test),2)\n",
        "print('mean absolute percentage error: {}\\n\\n\\n'.format(e_mape))\n",
        "\n",
        "# Check for homoscadacity\n",
        "plt.scatter(e_y_pred, y_test)\n",
        "plt.title('Variance of residuals')\n",
        "plt.show()"
      ],
      "metadata": {
        "id": "ijx1rUOS5CUU"
      },
      "execution_count": null,
      "outputs": []
    },
    {
      "cell_type": "markdown",
      "source": [
        "##**Model pipeline**"
      ],
      "metadata": {
        "id": "eQfJoOdKWQgP"
      }
    },
    {
      "cell_type": "code",
      "source": [
        "\n",
        "# set up the model pipeline\n",
        "def algorithm_pipeline(X_train_data, X_test_data, y_train_data, y_test_data, \n",
        "                       model, param_grid, cv=10, scoring_fit='neg_mean_squared_error',\n",
        "                       do_probabilities = False):\n",
        "    gs = GridSearchCV(\n",
        "        estimator=model,\n",
        "        param_grid=param_grid, \n",
        "        cv=cv, \n",
        "        n_jobs=-1, \n",
        "        scoring=scoring_fit,\n",
        "        verbose=2\n",
        "    )\n",
        "    fitted_model = gs.fit(X_train_data, y_train_data)\n",
        "    \n",
        "    if do_probabilities:\n",
        "      pred = fitted_model.predict_proba(X_test_data)\n",
        "    else:\n",
        "      pred = fitted_model.predict(X_test_data)\n",
        "    \n",
        "    return fitted_model, pred\n",
        "     "
      ],
      "metadata": {
        "id": "AIJ1a-Zc5PY8"
      },
      "execution_count": null,
      "outputs": []
    },
    {
      "cell_type": "markdown",
      "source": [
        "##**Implementing Random Forest Regressor**"
      ],
      "metadata": {
        "id": "YkkqjxlWXC4P"
      }
    },
    {
      "cell_type": "code",
      "source": [
        "from sklearn.ensemble import RandomForestRegressor     # random forest model\n",
        "from sklearn.svm import SVR  "
      ],
      "metadata": {
        "id": "T_i5LDyIuHbX"
      },
      "execution_count": null,
      "outputs": []
    },
    {
      "cell_type": "code",
      "source": [
        "# initialize and fit random forests regressor\n",
        "model = RandomForestRegressor()\n",
        "param_grid = {\n",
        "    'n_estimators': [100,150,200],\n",
        "     'max_depth': [20,30,50,100]\n",
        "}\n",
        "start = datetime.now()\n",
        "model, pred = algorithm_pipeline(X_train, X_test, y_train, y_test, model, \n",
        "                                 param_grid, cv=tscv)\n",
        "end = datetime.now()\n",
        "execution_time = round((end - start).seconds/60,2)\n",
        "print(f'The computational cost for finding the best fit random forest regressor model: {execution_time} minutes\\n')\n",
        "# Root Mean Squared Error\n",
        "print(f'Best score: {np.sqrt(-model.best_score_)}\\n')\n",
        "print(f'Best parameters: {model.best_params_}')"
      ],
      "metadata": {
        "id": "btT3ZJBAO6Ik"
      },
      "execution_count": null,
      "outputs": []
    },
    {
      "cell_type": "code",
      "source": [
        "\n",
        "# best fit model\n",
        "rfr = model.best_estimator_"
      ],
      "metadata": {
        "id": "yBRtdhth6JDE"
      },
      "execution_count": null,
      "outputs": []
    },
    {
      "cell_type": "code",
      "source": [
        "\n",
        "# evaluate the model\n",
        "plotModelResults(rfr, \n",
        "                 X_train, \n",
        "                 X_test, \n",
        "                plot_anomalies=True)"
      ],
      "metadata": {
        "id": "h1qC4yhBApWC"
      },
      "execution_count": null,
      "outputs": []
    },
    {
      "cell_type": "markdown",
      "source": [
        "##**Implementing XGBoost Regressor**"
      ],
      "metadata": {
        "id": "Md5lvYDHzJSF"
      }
    },
    {
      "cell_type": "code",
      "source": [
        "# initialize and fit xgboost regressor\n",
        "model = XGBRegressor()\n",
        "param_grid = {\n",
        "    'n_estimators': [400, 700, 1000],\n",
        "    'colsample_bytree': [0.7, 0.8],\n",
        "    'max_depth': [15,20,25],\n",
        "    'reg_alpha': [1.1, 1.2, 1.3],\n",
        "    'reg_lambda': [1.1, 1.2, 1.3],\n",
        "    'subsample': [0.7, 0.8, 0.9]\n",
        "}\n",
        "start = datetime.now()\n",
        "model, pred = algorithm_pipeline(X_train, X_test, y_train, y_test, model, \n",
        "                                 param_grid, cv=tscv)\n",
        "end = datetime.now()\n",
        "execution_time = round((end - start).seconds/60,2)\n",
        "print(f'The computational cost for finding the best fit XGBoost regressor model: {execution_time} minutes\\n')\n",
        "# Root Mean Squared Error\n",
        "print(f'Best score: {np.sqrt(-model.best_score_)}\\n')\n",
        "print(f'Best parameters: {model.best_params_}')\n",
        "     "
      ],
      "metadata": {
        "id": "YLhe8UmaBCEE"
      },
      "execution_count": null,
      "outputs": []
    },
    {
      "cell_type": "code",
      "source": [
        "# best fit model\n",
        "xgb = model.best_estimator_"
      ],
      "metadata": {
        "id": "I6quWQ1T9rtH"
      },
      "execution_count": null,
      "outputs": []
    },
    {
      "cell_type": "code",
      "source": [
        "\n",
        "# evaluate the model\n",
        "plotModelResults(xgb, \n",
        "                 X_train, \n",
        "                 X_test, \n",
        "                plot_anomalies=True)"
      ],
      "metadata": {
        "id": "dL9LWpySC6x_"
      },
      "execution_count": null,
      "outputs": []
    },
    {
      "cell_type": "code",
      "source": [
        "\n",
        "# create dataframe with evaluation metrics\n",
        "model_report = pd.DataFrame(data={'model':['linear regression','ridge regression','lasso regression','elastic net regression',], 'mae':[lr_mae,r_mae,l_mae,e_mae,], 'mse':[lr_mse,r_mse,l_mse,e_mse],'rmse':[lr_rmse,r_rmse,l_rmse,e_rmse],'r2_score':[lr_r2,r_r2,l_r2,e_r2],'mape':[lr_mape,r_mape,l_mape,e_mape]})\n",
        "model_report"
      ],
      "metadata": {
        "id": "kQfvxBBHDvCa"
      },
      "execution_count": null,
      "outputs": []
    },
    {
      "cell_type": "markdown",
      "source": [
        "##**Moving Average**\n",
        "A moving average much better than a naive forecast . A moving average is the average of previous  values."
      ],
      "metadata": {
        "id": "deNU3ACm3bsp"
      }
    },
    {
      "cell_type": "code",
      "source": [
        "\n",
        "# function for calculating moving average\n",
        "\n",
        "def moving_average(series, n):\n",
        "  \n",
        "  \"\"\"\n",
        "  Calculate average of last n observation\n",
        "  \"\"\"\n",
        "  \n",
        "  return round(np.average(series[-n:]),2)\n",
        "\n",
        "moving_average(df['Close'],12) # prediction for next month closing price using observed previous 12 months data"
      ],
      "metadata": {
        "id": "yzWbyQdI3bcg"
      },
      "execution_count": null,
      "outputs": []
    },
    {
      "cell_type": "markdown",
      "source": [
        "Unfortunately we can make only one prediction, to make further predictions we need to have the actual observed values. However moving average can be used to identify the trends by smoothing the time series using a pandas implementation DataFrame.rolling(window).mean().*italicized text*"
      ],
      "metadata": {
        "id": "GRyriQ1x31sj"
      }
    },
    {
      "cell_type": "code",
      "source": [
        "\n",
        "# # set back up the date column\n",
        "# df = df.reset_index()\n",
        "# df['Date'] = df_date\n",
        "\n",
        "# function for plotting moving average\n",
        "def ma(series, window, plot_intervals=False):\n",
        "\n",
        "  \"\"\"\n",
        "  series - dataframe column with timeseries\n",
        "  window - rolling window size\n",
        "  \"\"\"\n",
        "\n",
        "  rolling_mean = series.rolling(window=window).mean()\n",
        "\n",
        "  plt.figure(figsize=(20,5))\n",
        "  plt.title('Moving average \\n window size = {}'.format(window))\n",
        "  plt.plot(df['Date'], rolling_mean, \"g\", label = \"Rolling mean trend\")\n",
        "  \n",
        "  # plotting confidence intervals\n",
        "  if plot_intervals:\n",
        "    mae = mean_absolute_error(series[window:], rolling_mean[window:])\n",
        "    deviation = np.std(series[window] - rolling_mean[window:])\n",
        "    lower_bound = rolling_mean - (mae + deviation)\n",
        "    upper_bound = rolling_mean + (mae + deviation)\n",
        "    plt.plot(df['Date'], lower_bound, \"r--\", label = \"Upper/Lower bounds\")\n",
        "    plt.plot(df['Date'], upper_bound, \"r--\")\n",
        "  \n",
        "  plt.plot(df['Date'], series, label = \"Actual values\")\n",
        "  plt.legend(loc=\"upper left\")\n",
        "  plt.grid(True)\n",
        "  plt.show()\n",
        "     "
      ],
      "metadata": {
        "id": "0CTyd2UwEyNM"
      },
      "execution_count": null,
      "outputs": []
    },
    {
      "cell_type": "code",
      "source": [
        "\n",
        "# plotting 12 months moving average \n",
        "ma(df['Close'],12, plot_intervals=True) # smoothing by previous 12 months"
      ],
      "metadata": {
        "id": "nQsRhhZLFiDs"
      },
      "execution_count": null,
      "outputs": []
    },
    {
      "cell_type": "code",
      "source": [
        "\n",
        "\n",
        "# function that returns weighted moving average\n",
        "def wma(series, weights):\n",
        "  \"\"\"\n",
        "  calculate weighted moving average of the series\n",
        "  \"\"\"\n",
        "  result = 0.0\n",
        "  for w in range(len(weights)):\n",
        "    result += series.iloc[-w-1] * weights[w]\n",
        "    return float(result)\n",
        "\n",
        "wma(df['Close'], weights = [0.5, 0.3, 0.2])"
      ],
      "metadata": {
        "id": "7ebyywQieS1U"
      },
      "execution_count": null,
      "outputs": []
    },
    {
      "cell_type": "markdown",
      "source": [
        "##Now let's extend this concept of weighted averages to exponentially weighted moving averages\n",
        "Exponentially weighted moving averages weights all the available observations while exponentially decreasing the weights as we move back  values "
      ],
      "metadata": {
        "id": "f7ba0-He7T9p"
      }
    },
    {
      "cell_type": "markdown",
      "source": [
        "![maths.png](data:image/png;base64,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)"
      ],
      "metadata": {
        "id": "bzcSUP487oOt"
      }
    },
    {
      "cell_type": "code",
      "source": [
        "\n",
        "# function that does exponential smoothing\n",
        "def exponential_smoothing(series, alpha):\n",
        "  \"\"\"\n",
        "  series - dataframe column with timeseries\n",
        "  alpha - smoothing parameter\n",
        "  \"\"\"\n",
        "  result = [series[0]]\n",
        "  for n in range(len(series)):\n",
        "    result.append(alpha * series[n] + (1 - alpha) * result[n-1])\n",
        "  return result\n",
        "     "
      ],
      "metadata": {
        "id": "rqD5ZohzfxKe"
      },
      "execution_count": null,
      "outputs": []
    },
    {
      "cell_type": "code",
      "source": [
        "\n",
        "# function to plot exponentail moving averages\n",
        "def ema(series, alphas):\n",
        "  \"\"\"\n",
        "  series - dataframe colummn with time series\n",
        "  alpha - smoothing parameters\n",
        "  \"\"\"\n",
        "  with plt.style.context('seaborn-white'):\n",
        "    plt.figure(figsize=(20,5))\n",
        "    for alpha in alphas:\n",
        "      plt.plot(exponential_smoothing(series, alpha), label = \"Alpha{}\".format(alpha))\n",
        "    plt.plot(series.values, \"c\", label = \"Actual\")\n",
        "    plt.axis('tight')\n",
        "    plt.title(\"Exponential Smoothing\")\n",
        "    plt.legend(loc=\"best\")\n",
        "    plt.grid(True)\n"
      ],
      "metadata": {
        "id": "Dy61ujd6fxKe"
      },
      "execution_count": null,
      "outputs": []
    },
    {
      "cell_type": "code",
      "source": [
        "\n",
        "# make prediction\n",
        "round(exponential_smoothing(df['Close'], alpha=0.2)[-1],2)"
      ],
      "metadata": {
        "id": "yEl-hgQWpsJ1"
      },
      "execution_count": null,
      "outputs": []
    },
    {
      "cell_type": "code",
      "source": [
        "# plot ema\n",
        "ema(df['Close'], [0.9, 0.5, 0.1])"
      ],
      "metadata": {
        "id": "Dn0EOfS6psJ2"
      },
      "execution_count": null,
      "outputs": []
    },
    {
      "cell_type": "markdown",
      "source": [
        "**Getting rid of non stationarity**"
      ],
      "metadata": {
        "id": "R_9fmLNa9Yp-"
      }
    },
    {
      "cell_type": "code",
      "source": [
        "\n",
        "# function to take lags\n",
        "def tsplot(y, lags=None, figsize=(12, 7), style='bmh'):\n",
        "    \"\"\"\n",
        "        Plot time series, its ACF and PACF, calculate Dickey–Fuller test\n",
        "        \n",
        "        y - timeseries\n",
        "        lags - how many lags to include in ACF, PACF calculation\n",
        "    \"\"\"\n",
        "    if not isinstance(y, pd.Series):\n",
        "        y = pd.Series(y)\n",
        "        \n",
        "    with plt.style.context(style):    \n",
        "        fig = plt.figure(figsize=figsize)\n",
        "        layout = (2, 2)\n",
        "        ts_ax = plt.subplot2grid(layout, (0, 0), colspan=2)\n",
        "        acf_ax = plt.subplot2grid(layout, (1, 0))\n",
        "        pacf_ax = plt.subplot2grid(layout, (1, 1))\n",
        "        \n",
        "        y.plot(ax=ts_ax)\n",
        "        p_value = sm.tsa.stattools.adfuller(y)[1]\n",
        "        ts_ax.set_title('Time Series Analysis Plots\\n Dickey-Fuller: p={0:.5f}'.format(p_value))\n",
        "        smt.graphics.plot_acf(y, lags=lags, ax=acf_ax)\n",
        "        smt.graphics.plot_pacf(y, lags=lags, ax=pacf_ax)\n",
        "        plt.tight_layout()\n",
        "     "
      ],
      "metadata": {
        "id": "FFrSXAtrpx6M"
      },
      "execution_count": null,
      "outputs": []
    },
    {
      "cell_type": "code",
      "source": [
        "\n",
        "# plot to check stationarity\n",
        "tsplot(df['Close'], lags=12)"
      ],
      "metadata": {
        "id": "9d0JIetI9X8t"
      },
      "execution_count": null,
      "outputs": []
    },
    {
      "cell_type": "markdown",
      "source": [
        "The autocorrelation function still has too many significant lags. To remove them, we'll subtract the series from itself with lag 1"
      ],
      "metadata": {
        "id": "VLQnoBbf9pf1"
      }
    },
    {
      "cell_type": "code",
      "source": [
        "\n",
        "# differnce transform\n",
        "diff = df['Close'] - df['Close'].shift(2)\n",
        "tsplot(diff[3:], lags=12)\n",
        "     "
      ],
      "metadata": {
        "id": "xIY4lxxGpx6M"
      },
      "execution_count": null,
      "outputs": []
    },
    {
      "cell_type": "markdown",
      "source": [
        "ARIMA - Parameters\n",
        "\n",
        "p: Trend autoregression order \n",
        "d: Trend difference order.\n",
        "q: Trend moving average order.\n",
        "\n",
        " - is most probably 2 since it is the last significant lag on the PACF, after which, most others are not significant.\n",
        " equals 1 because we had first differences\n",
        " should be somewhere around 7 as well as seen on the ACF"
      ],
      "metadata": {
        "id": "yMmv2SUQ991k"
      }
    },
    {
      "cell_type": "code",
      "source": [
        "\n",
        "# fit model\n",
        "model = ARIMA(diff[4:], order=(2,1,7))\n",
        "model = model.fit()\n",
        "\n",
        "# summary of fit model\n",
        "print(model.summary())\n",
        "\n",
        "# line plot of residuals\n",
        "residuals = pd.DataFrame(model.resid)\n",
        "residuals.plot()\n",
        "plt.show()\n",
        "\n",
        "# density plot of residuals\n",
        "residuals.plot(kind='kde')\n",
        "plt.show()\n",
        "\n",
        "# summary stats of residuals\n",
        "print(residuals.describe())"
      ],
      "metadata": {
        "id": "eSVXuaSKpx6M"
      },
      "execution_count": null,
      "outputs": []
    },
    {
      "cell_type": "markdown",
      "source": [
        "###**Conclusion**"
      ],
      "metadata": {
        "id": "t9rqxggI-UhL"
      }
    },
    {
      "cell_type": "markdown",
      "source": [
        "**-We started with data inspection, viewed the data distribution, checked for correlation and used averaged features to remove correlation.**\n",
        "\n",
        "**-A simple linear regression model was built and it was evaluated using accuracy, mean squared error, root mean squared error, r2_score and mean absolute percentage error**.\n",
        "\n",
        "**-Additional features were engineered by taking lags and reduced the effect of multi collinearity using regularization techniques such as ridge, lasso and elastic net regression**.\n",
        "\n",
        "**-Regression models namely random forest regressor, xgboost regressor and support vector regressor were built.**\n",
        "\n",
        "**-The time component was brought in and used averaging techniques like moving average, exponentially weighted moving average and double exponentially weighted moving average to do time-series analysis.**\n",
        "\n",
        "--Presence of non stationarity was detected, made it stationary by taking\n",
        "lags and difference transformation and built an ARIMA model\n",
        "\n",
        "\n"
      ],
      "metadata": {
        "id": "Ap6q6xK--hJm"
      }
    },
    {
      "cell_type": "markdown",
      "source": [
        "### ***Hurrah! You have successfully completed your Machine Learning Capstone Project !!!***"
      ],
      "metadata": {
        "id": "gIfDvo9L0UH2"
      }
    },
    {
      "cell_type": "code",
      "source": [],
      "metadata": {
        "id": "2QE5_d7WDqtk"
      },
      "execution_count": null,
      "outputs": []
    }
  ]
}